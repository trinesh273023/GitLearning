{
 "cells": [
  {
   "cell_type": "code",
   "execution_count": 0,
   "metadata": {
    "application/vnd.databricks.v1+cell": {
     "cellMetadata": {
      "byteLimit": 2048000,
      "rowLimit": 10000
     },
     "inputWidgets": {},
     "nuid": "1a307904-c123-427c-87ae-f250718b6069",
     "showTitle": true,
     "tableResultSettingsMap": {},
     "title": "Ingesting and Consolidating Data"
    }
   },
   "outputs": [
    {
     "output_type": "stream",
     "name": "stdout",
     "output_type": "stream",
     "text": [
      "\n--- E-commerce Customers DataFrame ---\nroot\n |-- customer_id: long (nullable = true)\n |-- customer_name: string (nullable = true)\n |-- email: string (nullable = true)\n |-- membership_tier: string (nullable = true)\n\n+-----------+-------------+--------------------+---------------+\n|customer_id|customer_name|               email|membership_tier|\n+-----------+-------------+--------------------+---------------+\n|        101|     John Doe|john.doe@example.com|           Gold|\n|        102|   Jane Smith|jane.smith@exampl...|         Silver|\n|        103|  Peter Jones| peter.j@example.com|         Bronze|\n|        104|  Alice Brown| alice.b@example.com|           Gold|\n|        105|    Bob White|   bob.w@example.com|         Silver|\n+-----------+-------------+--------------------+---------------+\n\n\n--- E-commerce Orders DataFrame ---\nroot\n |-- order_id: long (nullable = true)\n |-- customer_id: long (nullable = true)\n |-- order_date: string (nullable = true)\n |-- quantity: long (nullable = true)\n |-- price_per_item: double (nullable = true)\n |-- product_name: string (nullable = true)\n\n+--------+-----------+----------+--------+--------------+------------+\n|order_id|customer_id|order_date|quantity|price_per_item|product_name|\n+--------+-----------+----------+--------+--------------+------------+\n|       1|        101|2023-01-05|       2|          50.0|      Laptop|\n|       2|        102|2023-01-07|       1|         120.0|  Smartphone|\n|       3|        101|2023-01-10|       3|          15.0|       Mouse|\n|       4|        103|2023-02-01|       1|          80.0|    Keyboard|\n|       5|        102|2023-02-15|       2|          25.0|  Headphones|\n|       6|        104|2023-03-01|       1|         500.0|     Monitor|\n|       7|        101|2023-03-10|       1|         100.0|      Webcam|\n|       8|        105|2023-03-12|       1|          30.0|   USB Drive|\n|       9|        103|2023-04-05|       2|          10.0|   Mouse Pad|\n|      10|        104|2023-04-20|       1|          75.0|     Charger|\n|      11|        106|2023-05-01|       1|         200.0|      Tablet|\n|      12|        101|2023-05-05|       1|          NULL|     Speaker|\n+--------+-----------+----------+--------+--------------+------------+\n\n"
     ]
    }
   ],
   "source": [
    "# This section demonstrates how to process and analyze simulated e-commerce order data.\n",
    "\n",
    "#Customers (for E-commerce)\n",
    "customers_ecommerce_data = [\n",
    "    (101, \"John Doe\", \"john.doe@example.com\", \"Gold\"),\n",
    "    (102, \"Jane Smith\", \"jane.smith@example.com\", \"Silver\"),\n",
    "    (103, \"Peter Jones\", \"peter.j@example.com\", \"Bronze\"),\n",
    "    (104, \"Alice Brown\", \"alice.b@example.com\", \"Gold\"),\n",
    "    (105, \"Bob White\", \"bob.w@example.com\", \"Silver\")\n",
    "]\n",
    "customers_ecommerce_schema = [\"customer_id\", \"customer_name\", \"email\", \"membership_tier\"]\n",
    "customers_ecommerce_df = spark.createDataFrame(data=customers_ecommerce_data, schema=customers_ecommerce_schema)\n",
    "print(\"\\n--- E-commerce Customers DataFrame ---\")\n",
    "customers_ecommerce_df.printSchema()\n",
    "customers_ecommerce_df.show()\n",
    "\n",
    "#Orders (for E-commerce)\n",
    "orders_data = [\n",
    "    (1, 101, \"2023-01-05\", 2, 50.00, \"Laptop\"),\n",
    "    (2, 102, \"2023-01-07\", 1, 120.00, \"Smartphone\"),\n",
    "    (3, 101, \"2023-01-10\", 3, 15.00, \"Mouse\"),\n",
    "    (4, 103, \"2023-02-01\", 1, 80.00, \"Keyboard\"),\n",
    "    (5, 102, \"2023-02-15\", 2, 25.00, \"Headphones\"),\n",
    "    (6, 104, \"2023-03-01\", 1, 500.00, \"Monitor\"),\n",
    "    (7, 101, \"2023-03-10\", 1, 100.00, \"Webcam\"),\n",
    "    (8, 105, \"2023-03-12\", 1, 30.00, \"USB Drive\"),\n",
    "    (9, 103, \"2023-04-05\", 2, 10.00, \"Mouse Pad\"),\n",
    "    (10, 104, \"2023-04-20\", 1, 75.00, \"Charger\"),\n",
    "    (11, 106, \"2023-05-01\", 1, 200.00, \"Tablet\"), # Order from non-existent customer\n",
    "    (12, 101, \"2023-05-05\", 1, None, \"Speaker\") # Order with missing amount\n",
    "]\n",
    "orders_schema = [\"order_id\", \"customer_id\", \"order_date\", \"quantity\", \"price_per_item\", \"product_name\"]\n",
    "orders_df = spark.createDataFrame(data=orders_data, schema=orders_schema)\n",
    "print(\"\\n--- E-commerce Orders DataFrame ---\")\n",
    "orders_df.printSchema()\n",
    "orders_df.show()"
   ]
  },
  {
   "cell_type": "code",
   "execution_count": 0,
   "metadata": {
    "application/vnd.databricks.v1+cell": {
     "cellMetadata": {
      "byteLimit": 2048000,
      "rowLimit": 10000
     },
     "inputWidgets": {},
     "nuid": "0eec108d-d263-4164-ae83-bc8933f46d83",
     "showTitle": true,
     "tableResultSettingsMap": {},
     "title": "Data Cleaning"
    }
   },
   "outputs": [
    {
     "output_type": "stream",
     "name": "stdout",
     "output_type": "stream",
     "text": [
      "Check the latest Schema\nroot\n |-- order_id: long (nullable = true)\n |-- customer_id: long (nullable = true)\n |-- order_date: date (nullable = true)\n |-- quantity: long (nullable = true)\n |-- price_per_item: double (nullable = false)\n |-- product_name: string (nullable = true)\n\nCheck the missing data\n"
     ]
    },
    {
     "output_type": "display_data",
     "data": {
      "text/html": [
       "<style scoped>\n",
       "  .table-result-container {\n",
       "    max-height: 300px;\n",
       "    overflow: auto;\n",
       "  }\n",
       "  table, th, td {\n",
       "    border: 1px solid black;\n",
       "    border-collapse: collapse;\n",
       "  }\n",
       "  th, td {\n",
       "    padding: 5px;\n",
       "  }\n",
       "  th {\n",
       "    text-align: left;\n",
       "  }\n",
       "</style><div class='table-result-container'><table class='table-result'><thead style='background-color: white'><tr><th>order_id</th><th>customer_id</th><th>order_date</th><th>quantity</th><th>price_per_item</th><th>product_name</th></tr></thead><tbody><tr><td>1</td><td>101</td><td>2023-01-05</td><td>2</td><td>50.0</td><td>Laptop</td></tr><tr><td>2</td><td>102</td><td>2023-01-07</td><td>1</td><td>120.0</td><td>Smartphone</td></tr><tr><td>3</td><td>101</td><td>2023-01-10</td><td>3</td><td>15.0</td><td>Mouse</td></tr><tr><td>4</td><td>103</td><td>2023-02-01</td><td>1</td><td>80.0</td><td>Keyboard</td></tr><tr><td>5</td><td>102</td><td>2023-02-15</td><td>2</td><td>25.0</td><td>Headphones</td></tr><tr><td>6</td><td>104</td><td>2023-03-01</td><td>1</td><td>500.0</td><td>Monitor</td></tr><tr><td>7</td><td>101</td><td>2023-03-10</td><td>1</td><td>100.0</td><td>Webcam</td></tr><tr><td>8</td><td>105</td><td>2023-03-12</td><td>1</td><td>30.0</td><td>USB Drive</td></tr><tr><td>9</td><td>103</td><td>2023-04-05</td><td>2</td><td>10.0</td><td>Mouse Pad</td></tr><tr><td>10</td><td>104</td><td>2023-04-20</td><td>1</td><td>75.0</td><td>Charger</td></tr><tr><td>11</td><td>106</td><td>2023-05-01</td><td>1</td><td>200.0</td><td>Tablet</td></tr><tr><td>12</td><td>101</td><td>2023-05-05</td><td>1</td><td>0.0</td><td>Speaker</td></tr></tbody></table></div>"
      ]
     },
     "metadata": {
      "application/vnd.databricks.v1+output": {
       "addedWidgets": {},
       "aggData": [],
       "aggError": "",
       "aggOverflow": false,
       "aggSchema": [],
       "aggSeriesLimitReached": false,
       "aggType": "",
       "arguments": {},
       "columnCustomDisplayInfos": {},
       "data": [
        [
         1,
         101,
         "2023-01-05",
         2,
         50.0,
         "Laptop"
        ],
        [
         2,
         102,
         "2023-01-07",
         1,
         120.0,
         "Smartphone"
        ],
        [
         3,
         101,
         "2023-01-10",
         3,
         15.0,
         "Mouse"
        ],
        [
         4,
         103,
         "2023-02-01",
         1,
         80.0,
         "Keyboard"
        ],
        [
         5,
         102,
         "2023-02-15",
         2,
         25.0,
         "Headphones"
        ],
        [
         6,
         104,
         "2023-03-01",
         1,
         500.0,
         "Monitor"
        ],
        [
         7,
         101,
         "2023-03-10",
         1,
         100.0,
         "Webcam"
        ],
        [
         8,
         105,
         "2023-03-12",
         1,
         30.0,
         "USB Drive"
        ],
        [
         9,
         103,
         "2023-04-05",
         2,
         10.0,
         "Mouse Pad"
        ],
        [
         10,
         104,
         "2023-04-20",
         1,
         75.0,
         "Charger"
        ],
        [
         11,
         106,
         "2023-05-01",
         1,
         200.0,
         "Tablet"
        ],
        [
         12,
         101,
         "2023-05-05",
         1,
         0.0,
         "Speaker"
        ]
       ],
       "datasetInfos": [],
       "dbfsResultPath": null,
       "isJsonSchema": true,
       "metadata": {},
       "overflow": false,
       "plotOptions": {
        "customPlotOptions": {},
        "displayType": "table",
        "pivotAggregation": null,
        "pivotColumns": null,
        "xColumns": null,
        "yColumns": null
       },
       "removedWidgets": [],
       "schema": [
        {
         "metadata": "{}",
         "name": "order_id",
         "type": "\"long\""
        },
        {
         "metadata": "{}",
         "name": "customer_id",
         "type": "\"long\""
        },
        {
         "metadata": "{}",
         "name": "order_date",
         "type": "\"date\""
        },
        {
         "metadata": "{}",
         "name": "quantity",
         "type": "\"long\""
        },
        {
         "metadata": "{}",
         "name": "price_per_item",
         "type": "\"double\""
        },
        {
         "metadata": "{}",
         "name": "product_name",
         "type": "\"string\""
        }
       ],
       "type": "table"
      }
     },
     "output_type": "display_data"
    }
   ],
   "source": [
    "from pyspark.sql.functions import *\n",
    "\n",
    "# Convert order_date to date type\n",
    "orders_df_cleaned = orders_df.withColumn(\"order_date\", to_date(col(\"order_date\")))\n",
    "                                         \n",
    "# Handle missing price_per_item: fill with 0 or average/median if appropriate for real data\n",
    "# For this example, we'll fill with 0 to calculate total_order_value\n",
    "orders_df_cleaned = orders_df_cleaned.withColumn(\"price_per_item\", coalesce(col(\"price_per_item\"), lit(0.0)))\n",
    "\n",
    "print(\"Check the latest Schema\")\n",
    "orders_df_cleaned.printSchema()\n",
    "\n",
    "print(\"Check the missing data\")\n",
    "display(orders_df_cleaned)"
   ]
  },
  {
   "cell_type": "code",
   "execution_count": 0,
   "metadata": {
    "application/vnd.databricks.v1+cell": {
     "cellMetadata": {
      "byteLimit": 2048000,
      "rowLimit": 10000
     },
     "inputWidgets": {},
     "nuid": "1598ca5b-6285-4a72-9a82-915f6e5a4ad3",
     "showTitle": true,
     "tableResultSettingsMap": {},
     "title": "Feature Engineering"
    }
   },
   "outputs": [
    {
     "output_type": "stream",
     "name": "stdout",
     "output_type": "stream",
     "text": [
      "\n--- Orders DataFrame after Cleaning and Enrichment ---\nroot\n |-- order_id: long (nullable = true)\n |-- customer_id: long (nullable = true)\n |-- order_date: date (nullable = true)\n |-- quantity: long (nullable = true)\n |-- price_per_item: double (nullable = false)\n |-- product_name: string (nullable = true)\n |-- total_order_value: double (nullable = true)\n |-- order_month: integer (nullable = true)\n |-- order_year: integer (nullable = true)\n |-- order_day: integer (nullable = true)\n\n+--------+-----------+----------+--------+--------------+------------+-----------------+-----------+----------+---------+\n|order_id|customer_id|order_date|quantity|price_per_item|product_name|total_order_value|order_month|order_year|order_day|\n+--------+-----------+----------+--------+--------------+------------+-----------------+-----------+----------+---------+\n|       1|        101|2023-01-05|       2|          50.0|      Laptop|            100.0|          1|      2023|        5|\n|       2|        102|2023-01-07|       1|         120.0|  Smartphone|            120.0|          1|      2023|        7|\n|       3|        101|2023-01-10|       3|          15.0|       Mouse|             45.0|          1|      2023|       10|\n|       4|        103|2023-02-01|       1|          80.0|    Keyboard|             80.0|          2|      2023|        1|\n|       5|        102|2023-02-15|       2|          25.0|  Headphones|             50.0|          2|      2023|       15|\n|       6|        104|2023-03-01|       1|         500.0|     Monitor|            500.0|          3|      2023|        1|\n|       7|        101|2023-03-10|       1|         100.0|      Webcam|            100.0|          3|      2023|       10|\n|       8|        105|2023-03-12|       1|          30.0|   USB Drive|             30.0|          3|      2023|       12|\n|       9|        103|2023-04-05|       2|          10.0|   Mouse Pad|             20.0|          4|      2023|        5|\n|      10|        104|2023-04-20|       1|          75.0|     Charger|             75.0|          4|      2023|       20|\n|      11|        106|2023-05-01|       1|         200.0|      Tablet|            200.0|          5|      2023|        1|\n|      12|        101|2023-05-05|       1|           0.0|     Speaker|              0.0|          5|      2023|        5|\n+--------+-----------+----------+--------+--------------+------------+-----------------+-----------+----------+---------+\n\n"
     ]
    }
   ],
   "source": [
    "# Calculate total_order_value and order_month/year\n",
    "orders_df_enriched = orders_df_cleaned \\\n",
    "    .withColumn(\"total_order_value\", col(\"quantity\") * col(\"price_per_item\")) \\\n",
    "    .withColumn(\"order_month\", month(col(\"order_date\"))) \\\n",
    "    .withColumn(\"order_year\", year(col(\"order_date\"))) \\\n",
    "    .withColumn(\"order_day\", dayofmonth(col(\"order_date\")))\n",
    "\n",
    "print(\"\\n--- Orders DataFrame after Cleaning and Enrichment ---\")\n",
    "orders_df_enriched.printSchema()\n",
    "orders_df_enriched.show()"
   ]
  },
  {
   "cell_type": "code",
   "execution_count": 0,
   "metadata": {
    "application/vnd.databricks.v1+cell": {
     "cellMetadata": {
      "byteLimit": 2048000,
      "rowLimit": 10000
     },
     "inputWidgets": {},
     "nuid": "5f0d0305-a78f-4cff-9eb8-58455f9d842f",
     "showTitle": true,
     "tableResultSettingsMap": {},
     "title": "Joining Orders with Customer Data"
    }
   },
   "outputs": [
    {
     "output_type": "stream",
     "name": "stdout",
     "output_type": "stream",
     "text": [
      "\n--- 12.2. Joining Orders with Customer Data ---\n\n--- Customer Orders Joined DataFrame ---\n+--------+-----------+----------+--------+--------------+------------+-----------------+-----------+----------+---------+-------------+---------------+\n|order_id|customer_id|order_date|quantity|price_per_item|product_name|total_order_value|order_month|order_year|order_day|customer_name|membership_tier|\n+--------+-----------+----------+--------+--------------+------------+-----------------+-----------+----------+---------+-------------+---------------+\n|       1|        101|2023-01-05|       2|          50.0|      Laptop|            100.0|          1|      2023|        5|     John Doe|           Gold|\n|       2|        102|2023-01-07|       1|         120.0|  Smartphone|            120.0|          1|      2023|        7|   Jane Smith|         Silver|\n|       3|        101|2023-01-10|       3|          15.0|       Mouse|             45.0|          1|      2023|       10|     John Doe|           Gold|\n|       4|        103|2023-02-01|       1|          80.0|    Keyboard|             80.0|          2|      2023|        1|  Peter Jones|         Bronze|\n|       5|        102|2023-02-15|       2|          25.0|  Headphones|             50.0|          2|      2023|       15|   Jane Smith|         Silver|\n|       6|        104|2023-03-01|       1|         500.0|     Monitor|            500.0|          3|      2023|        1|  Alice Brown|           Gold|\n|       7|        101|2023-03-10|       1|         100.0|      Webcam|            100.0|          3|      2023|       10|     John Doe|           Gold|\n|       8|        105|2023-03-12|       1|          30.0|   USB Drive|             30.0|          3|      2023|       12|    Bob White|         Silver|\n|       9|        103|2023-04-05|       2|          10.0|   Mouse Pad|             20.0|          4|      2023|        5|  Peter Jones|         Bronze|\n|      10|        104|2023-04-20|       1|          75.0|     Charger|             75.0|          4|      2023|       20|  Alice Brown|           Gold|\n|      11|        106|2023-05-01|       1|         200.0|      Tablet|            200.0|          5|      2023|        1|         NULL|           NULL|\n|      12|        101|2023-05-05|       1|           0.0|     Speaker|              0.0|          5|      2023|        5|     John Doe|           Gold|\n+--------+-----------+----------+--------+--------------+------------+-----------------+-----------+----------+---------+-------------+---------------+\n\n"
     ]
    }
   ],
   "source": [
    "print(\"\\n--- 12.2. Joining Orders with Customer Data ---\")\n",
    "customer_orders_df = orders_df_enriched.join(\n",
    "    customers_ecommerce_df,\n",
    "    orders_df_enriched.customer_id == customers_ecommerce_df.customer_id,\n",
    "    \"left_outer\"\n",
    ").select(\n",
    "    orders_df_enriched[\"*\"], # Select all columns from orders_df_enriched\n",
    "    customers_ecommerce_df[\"customer_name\"],\n",
    "    customers_ecommerce_df[\"membership_tier\"]\n",
    ")\n",
    "print(\"\\n--- Customer Orders Joined DataFrame ---\")\n",
    "customer_orders_df.show()"
   ]
  },
  {
   "cell_type": "code",
   "execution_count": 0,
   "metadata": {
    "application/vnd.databricks.v1+cell": {
     "cellMetadata": {
      "byteLimit": 2048000,
      "rowLimit": 10000
     },
     "inputWidgets": {},
     "nuid": "70800726-b144-4fd0-9233-afd3fddf1627",
     "showTitle": true,
     "tableResultSettingsMap": {},
     "title": "Monthly sales trends"
    }
   },
   "outputs": [
    {
     "output_type": "stream",
     "name": "stdout",
     "output_type": "stream",
     "text": [
      "\n--- 12.3. Aggregations: Monthly Sales Trends ---\n\n--- Monthly Sales Trends ---\n+----------+-----------+-------------------+------------------+-------------------+\n|order_year|order_month|total_monthly_sales|total_orders_count|average_order_value|\n+----------+-----------+-------------------+------------------+-------------------+\n|      2023|          1|              265.0|                 3|              88.33|\n|      2023|          2|              130.0|                 2|               65.0|\n|      2023|          3|              630.0|                 3|              210.0|\n|      2023|          4|               95.0|                 2|               47.5|\n|      2023|          5|              200.0|                 2|              100.0|\n+----------+-----------+-------------------+------------------+-------------------+\n\n"
     ]
    }
   ],
   "source": [
    "print(\"\\n--- 12.3. Aggregations: Monthly Sales Trends ---\")\n",
    "monthly_sales_df = customer_orders_df.groupBy(\"order_year\", \"order_month\") \\\n",
    "    .agg(\n",
    "        round(sum(\"total_order_value\"), 2).alias(\"total_monthly_sales\"),\n",
    "        count(\"order_id\").alias(\"total_orders_count\"),\n",
    "        round(avg(\"total_order_value\"), 2).alias(\"average_order_value\")\n",
    "    ) \\\n",
    "    .orderBy(\"order_year\", \"order_month\")\n",
    "print(\"\\n--- Monthly Sales Trends ---\")\n",
    "monthly_sales_df.show()\n"
   ]
  },
  {
   "cell_type": "code",
   "execution_count": 0,
   "metadata": {
    "application/vnd.databricks.v1+cell": {
     "cellMetadata": {
      "byteLimit": 2048000,
      "rowLimit": 10000
     },
     "inputWidgets": {},
     "nuid": "b5e2d7c5-bc20-483a-b970-1099f2ad91c5",
     "showTitle": true,
     "tableResultSettingsMap": {},
     "title": "Top 5 Customers by Spending"
    }
   },
   "outputs": [
    {
     "output_type": "stream",
     "name": "stdout",
     "output_type": "stream",
     "text": [
      "\n--- 12.4. Aggregations: Top 5 Customers by Spending ---\n\n--- Top 5 Customers by Spending ---\n+-----------+-------------+---------------+--------------+------------+\n|customer_id|customer_name|membership_tier|total_spending|total_orders|\n+-----------+-------------+---------------+--------------+------------+\n|        104|  Alice Brown|           Gold|         575.0|           2|\n|        101|     John Doe|           Gold|         245.0|           4|\n|        106|         NULL|           NULL|         200.0|           1|\n|        102|   Jane Smith|         Silver|         170.0|           2|\n|        103|  Peter Jones|         Bronze|         100.0|           2|\n+-----------+-------------+---------------+--------------+------------+\n\n"
     ]
    }
   ],
   "source": [
    "print(\"--- Top 5 Customers by Spending ---\")\n",
    "top_customers_df = customer_orders_df.groupBy(\"customer_id\", \"customer_name\", \"membership_tier\") \\\n",
    "    .agg(\n",
    "        round(sum(\"total_order_value\"), 2).alias(\"total_spending\"),\n",
    "        count(\"order_id\").alias(\"total_orders\")\n",
    "    ) \\\n",
    "    .orderBy(col(\"total_spending\").desc()) \\\n",
    "    .limit(5)\n",
    "print(\"\\n--- Top 5 Customers by Spending ---\")\n",
    "top_customers_df.show()"
   ]
  },
  {
   "cell_type": "code",
   "execution_count": 0,
   "metadata": {
    "application/vnd.databricks.v1+cell": {
     "cellMetadata": {
      "byteLimit": 2048000,
      "rowLimit": 10000
     },
     "inputWidgets": {},
     "nuid": "c5595fbf-69c8-447d-a51b-1a414b80b47a",
     "showTitle": true,
     "tableResultSettingsMap": {},
     "title": "Running Total of Sales per Customer"
    }
   },
   "outputs": [
    {
     "output_type": "stream",
     "name": "stdout",
     "output_type": "stream",
     "text": [
      "\n--- Customer Running Total Sales ---\n+--------+-----------+----------+--------+--------------+------------+-----------------+-----------+----------+---------+-------------+---------------+-------------------+\n|order_id|customer_id|order_date|quantity|price_per_item|product_name|total_order_value|order_month|order_year|order_day|customer_name|membership_tier|running_total_sales|\n+--------+-----------+----------+--------+--------------+------------+-----------------+-----------+----------+---------+-------------+---------------+-------------------+\n|       1|        101|2023-01-05|       2|          50.0|      Laptop|            100.0|          1|      2023|        5|     John Doe|           Gold|              100.0|\n|       3|        101|2023-01-10|       3|          15.0|       Mouse|             45.0|          1|      2023|       10|     John Doe|           Gold|              145.0|\n|       7|        101|2023-03-10|       1|         100.0|      Webcam|            100.0|          3|      2023|       10|     John Doe|           Gold|              245.0|\n|      12|        101|2023-05-05|       1|           0.0|     Speaker|              0.0|          5|      2023|        5|     John Doe|           Gold|              245.0|\n|       2|        102|2023-01-07|       1|         120.0|  Smartphone|            120.0|          1|      2023|        7|   Jane Smith|         Silver|              120.0|\n|       5|        102|2023-02-15|       2|          25.0|  Headphones|             50.0|          2|      2023|       15|   Jane Smith|         Silver|              170.0|\n|       4|        103|2023-02-01|       1|          80.0|    Keyboard|             80.0|          2|      2023|        1|  Peter Jones|         Bronze|               80.0|\n|       9|        103|2023-04-05|       2|          10.0|   Mouse Pad|             20.0|          4|      2023|        5|  Peter Jones|         Bronze|              100.0|\n|       6|        104|2023-03-01|       1|         500.0|     Monitor|            500.0|          3|      2023|        1|  Alice Brown|           Gold|              500.0|\n|      10|        104|2023-04-20|       1|          75.0|     Charger|             75.0|          4|      2023|       20|  Alice Brown|           Gold|              575.0|\n|       8|        105|2023-03-12|       1|          30.0|   USB Drive|             30.0|          3|      2023|       12|    Bob White|         Silver|               30.0|\n|      11|        106|2023-05-01|       1|         200.0|      Tablet|            200.0|          5|      2023|        1|         NULL|           NULL|              200.0|\n+--------+-----------+----------+--------+--------------+------------+-----------------+-----------+----------+---------+-------------+---------------+-------------------+\n\n"
     ]
    }
   ],
   "source": [
    "from pyspark.sql.window import Window\n",
    "window_spec_customer_sales = Window.partitionBy(\"customer_id\").orderBy(\"order_date\")\n",
    "customer_running_sales_df = customer_orders_df.withColumn(\n",
    "    \"running_total_sales\",\n",
    "    round(sum(\"total_order_value\").over(window_spec_customer_sales), 2)\n",
    ")\n",
    "print(\"\\n--- Customer Running Total Sales ---\")\n",
    "customer_running_sales_df.show()\n"
   ]
  },
  {
   "cell_type": "code",
   "execution_count": 0,
   "metadata": {
    "application/vnd.databricks.v1+cell": {
     "cellMetadata": {
      "byteLimit": 2048000,
      "rowLimit": 10000
     },
     "inputWidgets": {},
     "nuid": "962cf012-c607-462d-ad30-c625f8a5bb7d",
     "showTitle": false,
     "tableResultSettingsMap": {},
     "title": ""
    }
   },
   "outputs": [
    {
     "output_type": "stream",
     "name": "stdout",
     "output_type": "stream",
     "text": [
      "\n--- 12.6. UDF: Categorize Order Size ---\n\n--- Orders with Size Category ---\n+--------+-----------+-----------------+-------------------+\n|order_id|customer_id|total_order_value|order_size_category|\n+--------+-----------+-----------------+-------------------+\n|       1|        101|            100.0|             Medium|\n|       2|        102|            120.0|             Medium|\n|       3|        101|             45.0|              Small|\n|       4|        103|             80.0|             Medium|\n|       5|        102|             50.0|             Medium|\n|       6|        104|            500.0|              Large|\n|       7|        101|            100.0|             Medium|\n|       8|        105|             30.0|              Small|\n|       9|        103|             20.0|              Small|\n|      10|        104|             75.0|             Medium|\n|      11|        106|            200.0|              Large|\n|      12|        101|              0.0|              Small|\n+--------+-----------+-----------------+-------------------+\n\n"
     ]
    }
   ],
   "source": [
    "def categorize_order_size(total_value):\n",
    "    if total_value is None:\n",
    "        return \"Unknown\"\n",
    "    if total_value < 50:\n",
    "        return \"Small\"\n",
    "    elif 50 <= total_value < 200:\n",
    "        return \"Medium\"\n",
    "    else:\n",
    "        return \"Large\"\n",
    "\n",
    "categorize_order_udf = udf(categorize_order_size, StringType())\n",
    "\n",
    "print(\"\\n--- 12.6. UDF: Categorize Order Size ---\")\n",
    "orders_with_category_df = customer_orders_df.withColumn(\n",
    "    \"order_size_category\",\n",
    "    categorize_order_udf(col(\"total_order_value\"))\n",
    ")\n",
    "print(\"\\n--- Orders with Size Category ---\")\n",
    "orders_with_category_df.select(\"order_id\", \"customer_id\", \"total_order_value\", \"order_size_category\").show()"
   ]
  },
  {
   "cell_type": "code",
   "execution_count": 0,
   "metadata": {
    "application/vnd.databricks.v1+cell": {
     "cellMetadata": {},
     "inputWidgets": {},
     "nuid": "fbfe9881-c514-4753-8ea0-3a3db0cbb1ed",
     "showTitle": false,
     "tableResultSettingsMap": {},
     "title": ""
    }
   },
   "outputs": [],
   "source": []
  }
 ],
 "metadata": {
  "application/vnd.databricks.v1+notebook": {
   "computePreferences": null,
   "dashboards": [],
   "environmentMetadata": {
    "base_environment": "",
    "environment_version": "2"
   },
   "inputWidgetPreferences": null,
   "language": "python",
   "notebookMetadata": {
    "pythonIndentUnit": 4
   },
   "notebookName": "E-Commerce - Chadrika Mart",
   "widgets": {}
  },
  "language_info": {
   "name": "python"
  }
 },
 "nbformat": 4,
 "nbformat_minor": 0
}